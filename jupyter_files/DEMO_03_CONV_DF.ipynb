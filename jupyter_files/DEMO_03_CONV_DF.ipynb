{
 "cells": [
  {
   "cell_type": "markdown",
   "metadata": {},
   "source": [
    "# 3. DataFrame内のデータを使って列追加\n",
    "[AREA_PREFECTURE.xlsx](files/AREA_PREFECTURE.xlsx)\n",
    "を使用して変換します。"
   ]
  },
  {
   "cell_type": "code",
   "execution_count": null,
   "metadata": {},
   "outputs": [],
   "source": [
    "# 前準備 データロード\n",
    "import pandas as pd\n",
    "\n",
    "df_csv = pd.read_csv('KEN_ALL_UTF8.CSV', # 12万件郵便番号CSV\n",
    "                     usecols=['ZIPCODE','PREFECTURE_KANJI', \n",
    "                     'CITY_KANJI', 'ADDRESS_KANJI'],#カラムを指定して読みこみ\n",
    "                     dtype='object')\n",
    "\n",
    "print(len(df_csv)) # 行数表示\n",
    "\n",
    "# Dictionary型　Key:Valueの形でセット()\n",
    "#\n",
    "# dict = {\"北海道\": \"北海道\", \"青森県\": \"東北\", \n",
    "# \"岩手県\":\"東北\", \"宮城県\": \"東北\"}\n",
    "#\n",
    "# 値の取得\n",
    "# dict.get('京都','N/A') #KEYが存在しない場合はデフォルト値 N/Aになる\n",
    "\n",
    "# AREA_PREFECTURE.xlsxから　辞書作成\n",
    "# 縦でKey:ValueになるEXCELはDataframeに読み込ませた後、縦横変換\n",
    "df_area = pd.read_excel('AREA_PREFECTURE.xlsx')\n",
    "df_area = df_area.set_index('PREFECTURE_KANJI') #KEYになる列をindexに設定\n",
    "dict_area = df_area['AREA'].T.to_dict() #縦横変換後、Dictionary化\n",
    "dict_area \n",
    "\n"
   ]
  },
  {
   "cell_type": "code",
   "execution_count": null,
   "metadata": {},
   "outputs": [],
   "source": [
    "# チェック\n",
    "print(dict_area.get('東京都', 'N/A'))\n",
    "print(dict_area.get('とうきょうと', 'N/A'))"
   ]
  },
  {
   "cell_type": "markdown",
   "metadata": {},
   "source": [
    "# 3-1: dictionaryの対応する値で新規列作成\n",
    "AREA列を'PREFECTURE_KANJI'列の値を使用して新規作成"
   ]
  },
  {
   "cell_type": "code",
   "execution_count": null,
   "metadata": {},
   "outputs": [],
   "source": [
    "# 新しい列 AREAを追加、AREA_PREFECTURE.xlsxに応じたAREAを追加\n",
    "# apply(): Dataframe全体に対して関数を適用\n",
    "#          axis=1: 各行に対して適用\n",
    "# lambda: 無名関数\n",
    "# lambda x: dict_area.get(x['PREFECTURE_KANJI'], 'N/A')\n",
    "#        xにはDataframeが入る x['PREFECTURE_KANJI'] は df_csv['PREFECTURE_KANJI']\n",
    "\n",
    "df_csv['AREA']  = df_csv.apply(\n",
    "                         lambda x: dict_area.get(x['PREFECTURE_KANJI'], 'N/A'),\n",
    "                         axis=1) \n",
    "\n",
    "display(df_csv.loc[0:10])\n",
    "display(df_csv.loc[10000:10010])\n",
    "display(df_csv.loc[50000:50010])"
   ]
  },
  {
   "cell_type": "code",
   "execution_count": null,
   "metadata": {},
   "outputs": [],
   "source": [
    "#含まれている全都道府県 + AREA 重複無し(SQL DISTINCT)\n",
    "df_csv[['PREFECTURE_KANJI','AREA']].drop_duplicates()"
   ]
  },
  {
   "cell_type": "markdown",
   "metadata": {},
   "source": [
    "# 3−2: DataFrame内の値を条件として新規列作成"
   ]
  },
  {
   "cell_type": "code",
   "execution_count": null,
   "metadata": {},
   "outputs": [],
   "source": [
    "#'ADDRESS_KANJI'にタワーを含むレコード\n",
    "df_csv.loc[ (df_csv['ADDRESS_KANJI'].str.find('タワー')>=0)]\n",
    "      "
   ]
  },
  {
   "cell_type": "code",
   "execution_count": null,
   "metadata": {},
   "outputs": [],
   "source": [
    "# TOWER_FLAG列を追加\n",
    "# ADDRESS_KANJI'にタワーを含むレコードはTOWER_FLAG=Y\n",
    "# それ以外はN\n",
    "# ifで条件を付加\n",
    "# elseは条件を満たさない場合の値\n",
    "df_csv['TOWER_FLAG'] = df_csv.apply(\n",
    "           lambda x: 'Y' if x['ADDRESS_KANJI'].find('タワー')>=0 else 'N', axis=1)\n",
    "\n",
    "#'ADDRESS_KANJI'にタワーを含むレコード\n",
    "display(df_csv.loc[(df_csv['TOWER_FLAG']=='Y')])\n",
    "\n",
    "#'ADDRESS_KANJI'にタワーを含まないレコード\n",
    "display(df_csv.loc[(df_csv['TOWER_FLAG']=='N')])"
   ]
  },
  {
   "cell_type": "markdown",
   "metadata": {},
   "source": [
    "<br />\n",
    "<br />\n",
    "<br />\n",
    "<br />\n",
    "<br />\n",
    "<br />\n",
    "<br />\n",
    "<br />\n",
    "Next: [DEMO_04_MERGE_DF.ipynb](DEMO_04_MERGE_DF.ipynb)"
   ]
  }
 ],
 "metadata": {
  "kernelspec": {
   "display_name": "Python 3",
   "language": "python",
   "name": "python3"
  },
  "language_info": {
   "codemirror_mode": {
    "name": "ipython",
    "version": 3
   },
   "file_extension": ".py",
   "mimetype": "text/x-python",
   "name": "python",
   "nbconvert_exporter": "python",
   "pygments_lexer": "ipython3",
   "version": "3.6.4"
  }
 },
 "nbformat": 4,
 "nbformat_minor": 2
}
