{
 "cells": [
  {
   "cell_type": "markdown",
   "metadata": {},
   "source": [
    "# 2. 選択したデータの変更"
   ]
  },
  {
   "cell_type": "code",
   "execution_count": null,
   "metadata": {},
   "outputs": [],
   "source": [
    "# 前準備 データロード\n",
    "import pandas as pd\n",
    "\n",
    "df_csv = pd.read_csv('KEN_ALL_UTF8.CSV', dtype='object')\n",
    "print(len(df_csv)) # 読み込んだ行数\n",
    "df_csv.loc[0:5] # index 0〜5まで表示"
   ]
  },
  {
   "cell_type": "markdown",
   "metadata": {},
   "source": [
    "# 必要な項目に絞る\n",
    "<img src=\"table_structure.png\" alt=\"テーブル構造\" title=\"テーブル\">"
   ]
  },
  {
   "cell_type": "code",
   "execution_count": null,
   "metadata": {},
   "outputs": [],
   "source": [
    "# 前準備2 必要な列のみ選択\n",
    "df_csv = df_csv[['ZIPCODE','PREFECTURE_KANJI', \n",
    "                 'CITY_KANJI', 'ADDRESS_KANJI']] # column名で指定\n",
    "df_csv.loc[0:9] # 最初の10行をget"
   ]
  },
  {
   "cell_type": "code",
   "execution_count": null,
   "metadata": {},
   "outputs": [],
   "source": [
    "# 含まれている全都道府県　重複無し (SQL DISTINCT)\n",
    "# .drop_duplicates()で重複削除\n",
    "df_csv[['PREFECTURE_KANJI']].drop_duplicates() # 47都道府県\n"
   ]
  },
  {
   "cell_type": "markdown",
   "metadata": {},
   "source": [
    "# 列の変更(行指定)"
   ]
  },
  {
   "cell_type": "code",
   "execution_count": null,
   "metadata": {
    "scrolled": true
   },
   "outputs": [],
   "source": [
    "#一行目の'PREFECTURE_KANJI'の値　新北海道に変更\n",
    "display(df_csv.loc[[0]]) # 変更前 1行目をjupyterでフォーマットして表示\n",
    "df_csv.loc[0,'PREFECTURE_KANJI']='新北海道' # [index名,column名]指定\n",
    "df_csv.loc[[0]] # 変更後の値"
   ]
  },
  {
   "cell_type": "code",
   "execution_count": null,
   "metadata": {},
   "outputs": [],
   "source": [
    "#含まれている全都道府県 (SQL DISTINCT)\n",
    "df_csv[['PREFECTURE_KANJI']].drop_duplicates() #新北海道が増えている"
   ]
  },
  {
   "cell_type": "markdown",
   "metadata": {},
   "source": [
    "# 列の変更(全行)"
   ]
  },
  {
   "cell_type": "code",
   "execution_count": null,
   "metadata": {},
   "outputs": [],
   "source": [
    "#'PREFECTURE_KANJI' 北海道に変更\n",
    "df_csv['PREFECTURE_KANJI']='北海道'\n",
    "df_csv"
   ]
  },
  {
   "cell_type": "code",
   "execution_count": null,
   "metadata": {},
   "outputs": [],
   "source": [
    "#含まれている全都道府県 重複無し(SQL DISTINCT)\n",
    "df_csv[['PREFECTURE_KANJI']].drop_duplicates()"
   ]
  },
  {
   "cell_type": "code",
   "execution_count": null,
   "metadata": {},
   "outputs": [],
   "source": [
    "#データリロード\n",
    "df_csv = pd.read_csv('KEN_ALL_UTF8.CSV', \n",
    "            usecols=['ZIPCODE','PREFECTURE_KANJI', \n",
    "                    'CITY_KANJI', 'ADDRESS_KANJI'],#usecols:カラムを指定して読み込める！\n",
    "                     dtype='object')\n",
    "\n",
    "df_csv[['PREFECTURE_KANJI']].drop_duplicates()"
   ]
  },
  {
   "cell_type": "markdown",
   "metadata": {},
   "source": [
    "# 列の変更(条件にあった行のみ)"
   ]
  },
  {
   "cell_type": "code",
   "execution_count": null,
   "metadata": {
    "slideshow": {
     "slide_type": "subslide"
    }
   },
   "outputs": [],
   "source": [
    "#'PREFECTURE_KANJI'が東京都、\n",
    "#'CITY_KANJI'が港区のデータを選択\n",
    "df_csv.loc[(df_csv['PREFECTURE_KANJI']=='東京都') & (df_csv['CITY_KANJI']=='港区')]"
   ]
  },
  {
   "cell_type": "code",
   "execution_count": null,
   "metadata": {
    "slideshow": {
     "slide_type": "subslide"
    }
   },
   "outputs": [],
   "source": [
    "#'PREFECTURE_KANJI'が東京都、\n",
    "#'CITY_KANJI'が港区のデータ\n",
    "# 'CITY_KANJI'を'ThinkJapan区'に変換\n",
    "# df.loc[条件, 対象列] = 変更値\n",
    "\n",
    "# 港区をThinkJapan区に変更\n",
    "df_csv.loc[(df_csv['PREFECTURE_KANJI']=='東京都')& (df_csv['CITY_KANJI']=='港区'), \n",
    "           'CITY_KANJI']='ThinkJapan区'\n",
    "\n",
    "# 変更後の値\n",
    "df_csv.loc[(df_csv['PREFECTURE_KANJI']=='東京都')\n",
    "       & (df_csv['CITY_KANJI']=='ThinkJapan区')]"
   ]
  },
  {
   "cell_type": "code",
   "execution_count": null,
   "metadata": {
    "scrolled": true,
    "slideshow": {
     "slide_type": "subslide"
    }
   },
   "outputs": [],
   "source": [
    "# 確認 : 変更後の東京都の区全てを表示\n",
    "#\n",
    "#'PREFECTURE_KANJI'が東京都、\n",
    "#'CITY_KANJI'が区を含む　重複無し\n",
    "# str.find('A'): Aが最初に見つかった位置を返す、見つからない場合は0を返す\n",
    "\n",
    "\n",
    "df_csv.loc[(df_csv['PREFECTURE_KANJI']=='東京都')\n",
    "           & (df_csv['CITY_KANJI'].str.find('区')>=0),\n",
    "           ['CITY_KANJI']].drop_duplicates()"
   ]
  },
  {
   "cell_type": "markdown",
   "metadata": {},
   "source": [
    "<br />\n",
    "<br />\n",
    "<br />\n",
    "<br />\n",
    "<br />\n",
    "<br />\n",
    "<br />\n",
    "<br />\n",
    "Next: [DEMO_03_CONV_DF.ipynb](DEMO_03_CONV_DF.ipynb)"
   ]
  }
 ],
 "metadata": {
  "kernelspec": {
   "display_name": "Python 3",
   "language": "python",
   "name": "python3"
  },
  "language_info": {
   "codemirror_mode": {
    "name": "ipython",
    "version": 3
   },
   "file_extension": ".py",
   "mimetype": "text/x-python",
   "name": "python",
   "nbconvert_exporter": "python",
   "pygments_lexer": "ipython3",
   "version": "3.6.4"
  }
 },
 "nbformat": 4,
 "nbformat_minor": 2
}
