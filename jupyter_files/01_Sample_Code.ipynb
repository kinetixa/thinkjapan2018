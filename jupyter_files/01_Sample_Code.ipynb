{
 "cells": [
  {
   "cell_type": "markdown",
   "metadata": {
    "slideshow": {
     "slide_type": "slide"
    }
   },
   "source": [
    "# Python Sample Code\n",
    "## if文などのブロックをインデントで指定します\n",
    "\n",
    "**jupyter notebook:**\n",
    "- セルはCodeまたはMarkdownが記述可能です。\n",
    "- ダブルクリックで編集、CodeかMarkdownかを設定し記述\n",
    "<br />\n",
    "<br />\n",
    "- Markdown: CTRL+Enter または　Shift+Enterでフォーマット\n",
    "- Code: CTRL+Enter または　Shift+Enterで実行可能"
   ]
  },
  {
   "cell_type": "code",
   "execution_count": null,
   "metadata": {
    "slideshow": {
     "slide_type": "-"
    }
   },
   "outputs": [],
   "source": [
    "def hello(names): #関数定義\n",
    "    i = 1\n",
    "    for name in names:\n",
    "        print(i)\n",
    "        print(\"Hello \"+ name + \"!\")\n",
    "        i +=1\n",
    "        \n",
    "fruits = ['Banana', 'Apple', 'Lime'] #List\n",
    "hello(fruits)"
   ]
  },
  {
   "cell_type": "markdown",
   "metadata": {},
   "source": [
    "<br />\n",
    "<br />\n",
    "<br />\n",
    "<br />\n",
    "<br />\n",
    "<br />\n",
    "<br />"
   ]
  }
 ],
 "metadata": {
  "kernelspec": {
   "display_name": "Python 3",
   "language": "python",
   "name": "python3"
  },
  "language_info": {
   "codemirror_mode": {
    "name": "ipython",
    "version": 3
   },
   "file_extension": ".py",
   "mimetype": "text/x-python",
   "name": "python",
   "nbconvert_exporter": "python",
   "pygments_lexer": "ipython3",
   "version": "3.6.4"
  }
 },
 "nbformat": 4,
 "nbformat_minor": 2
}
