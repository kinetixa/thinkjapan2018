{
 "cells": [
  {
   "cell_type": "markdown",
   "metadata": {
    "slideshow": {
     "slide_type": "slide"
    }
   },
   "source": [
    "# DataFrame\n",
    "<img src=\"02_Dataframe_Sample.png\" alt=\"テーブル構造\" title=\"テーブル\">\n",
    "pythonの List[’AAA’, ’BBB', 'CCC']　をカンマで繋いで、表イメージで作成可能"
   ]
  },
  {
   "cell_type": "code",
   "execution_count": null,
   "metadata": {
    "scrolled": false,
    "slideshow": {
     "slide_type": "-"
    }
   },
   "outputs": [],
   "source": [
    "import pandas as pd #pandas ライブラリのインポート\n",
    "\n",
    "df = pd.DataFrame([[\"エリー\",\"000-1234-5678\",1000,\"C\"], \n",
    "    [\"グラディ\",\"111-1234-5678\",2000,\"B\"], \n",
    "    [\"よういち\",\"222-1234-7890\",3000,\"A\"], \n",
    "    [\"けん\",\"333-1234-7890\",100,\"D\"], \n",
    "    [\"あやか\",\"444-1234-9012\",100,\"D\"]], \n",
    "    columns=[\"名前\",\"電話番号\",\"ポイント\",\"クラス\"])\n",
    "\n",
    "df # Codeの最後に変数を書くと表示してくれる。DataFrameはテーブルに整形してくれる\n"
   ]
  },
  {
   "cell_type": "markdown",
   "metadata": {
    "slideshow": {
     "slide_type": "subslide"
    }
   },
   "source": [
    "<br />\n",
    "<br />\n",
    "<br />\n",
    "<br />\n",
    "<br />\n",
    "<br />\n",
    "<br />\n",
    "next page....."
   ]
  },
  {
   "cell_type": "markdown",
   "metadata": {
    "slideshow": {
     "slide_type": "slide"
    }
   },
   "source": [
    "# indexはデフォルト数字ですが指定もできます。"
   ]
  },
  {
   "cell_type": "code",
   "execution_count": null,
   "metadata": {
    "scrolled": false,
    "slideshow": {
     "slide_type": "-"
    }
   },
   "outputs": [],
   "source": [
    "df = pd.DataFrame([[\"エリー\",\"000-1234-5678\",1000,\"C\"], \n",
    "    [\"グラディ\",\"111-1234-5678\",2000,\"B\"], \n",
    "    [\"よういち\",\"222-1234-7890\",3000,\"A\"], \n",
    "    [\"けん\",\"333-1234-7890\",100,\"D\"], \n",
    "    [\"あやか\",\"444-1234-9012\",100,\"D\"]], \n",
    "    columns=[\"名前\",\"電話番号\",\"ポイント\",\"クラス\"],\n",
    "     index=[\"社長1\",\"フェロー\",\"准教授\",\"社長2\",\"タレント\"])\n",
    "df"
   ]
  },
  {
   "cell_type": "markdown",
   "metadata": {},
   "source": [
    "<br />\n",
    "<br />\n",
    "<br />\n",
    "<br />\n",
    "<br />\n",
    "<br />\n",
    "<br />\n",
    "next page....."
   ]
  },
  {
   "cell_type": "markdown",
   "metadata": {
    "slideshow": {
     "slide_type": "slide"
    }
   },
   "source": [
    "# columsのラベルを指定しなければ連番になります"
   ]
  },
  {
   "cell_type": "code",
   "execution_count": null,
   "metadata": {
    "scrolled": true,
    "slideshow": {
     "slide_type": "-"
    }
   },
   "outputs": [],
   "source": [
    "df = pd.DataFrame([[\"エリー\",\"000-1234-5678\",1000,\"C\"], \n",
    "    [\"グラディ\",\"111-1234-5678\",2000,\"B\"], \n",
    "    [\"よういち\",\"222-1234-7890\",3000,\"A\"], \n",
    "    [\"けん\",\"333-1234-7890\",100,\"D\"], \n",
    "    [\"あやか\",\"444-1234-9012\",100,\"D\"]])\n",
    "df"
   ]
  },
  {
   "cell_type": "markdown",
   "metadata": {},
   "source": [
    "<br />\n",
    "<br />\n",
    "<br />\n",
    "<br />\n",
    "<br />\n",
    "<br />\n",
    "<br />\n",
    "<br />\n",
    "<br />\n",
    "<br />\n",
    "next page....."
   ]
  },
  {
   "cell_type": "markdown",
   "metadata": {
    "slideshow": {
     "slide_type": "slide"
    }
   },
   "source": [
    "# CSVファイル, EXCELファイル,SQLの結果から"
   ]
  },
  {
   "cell_type": "markdown",
   "metadata": {},
   "source": [
    "<br />\n",
    "<br />\n",
    "<br />\n",
    "<br />\n",
    "<br />\n",
    "<br />\n",
    "<br />\n",
    "<br />\n",
    "<br />\n",
    "<br />\n",
    "next page....."
   ]
  },
  {
   "cell_type": "markdown",
   "metadata": {},
   "source": [
    "# EXCEL読み込み\n",
    "\n",
    "[Dataframeゼネラルセッション.xlsx](files/Dataframeゼネラルセッション.xlsx)\n"
   ]
  },
  {
   "cell_type": "code",
   "execution_count": null,
   "metadata": {
    "slideshow": {
     "slide_type": "-"
    }
   },
   "outputs": [],
   "source": [
    "df_excel = pd.read_excel('Dataframeゼネラルセッション.xlsx')\n",
    "df_excel"
   ]
  },
  {
   "cell_type": "markdown",
   "metadata": {},
   "source": [
    "<br />\n",
    "<br />\n",
    "<br />\n",
    "<br />\n",
    "<br />\n",
    "<br />\n",
    "<br />\n",
    "<br />\n",
    "next page....."
   ]
  },
  {
   "cell_type": "markdown",
   "metadata": {
    "slideshow": {
     "slide_type": "skip"
    }
   },
   "source": [
    "# CSV読み込み"
   ]
  },
  {
   "cell_type": "code",
   "execution_count": null,
   "metadata": {},
   "outputs": [],
   "source": [
    "# !をつけるとOSのコマンドが実行できます。\n",
    "# 以下はMacのコマンドです(Windowsは通常実行不可)。\n",
    "# catでファイルの内容を出力\n",
    "! cat Dataframeゼネラルセッション.csv"
   ]
  },
  {
   "cell_type": "code",
   "execution_count": null,
   "metadata": {},
   "outputs": [],
   "source": [
    "df_csv = pd.read_csv('Dataframeゼネラルセッション.csv')\n",
    "df_csv"
   ]
  },
  {
   "cell_type": "markdown",
   "metadata": {},
   "source": [
    "<br />\n",
    "<br />\n",
    "<br />\n",
    "<br />\n",
    "<br />\n",
    "<br />\n",
    "<br />\n",
    "<br />\n",
    "next page....."
   ]
  },
  {
   "cell_type": "markdown",
   "metadata": {},
   "source": [
    "# DB読み込み\n",
    "# まず接続から　....\n",
    "[03_DB_Sample.ipynb](03_DB_Sample.ipynb)"
   ]
  },
  {
   "cell_type": "markdown",
   "metadata": {},
   "source": [
    "<br />\n",
    "<br />\n",
    "<br />\n",
    "<br />\n",
    "<br />\n",
    "<br />\n",
    "<br />\n",
    "<br />"
   ]
  }
 ],
 "metadata": {
  "kernelspec": {
   "display_name": "Python 3",
   "language": "python",
   "name": "python3"
  },
  "language_info": {
   "codemirror_mode": {
    "name": "ipython",
    "version": 3
   },
   "file_extension": ".py",
   "mimetype": "text/x-python",
   "name": "python",
   "nbconvert_exporter": "python",
   "pygments_lexer": "ipython3",
   "version": "3.6.4"
  }
 },
 "nbformat": 4,
 "nbformat_minor": 2
}
