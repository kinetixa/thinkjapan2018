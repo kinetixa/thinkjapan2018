{
 "cells": [
  {
   "cell_type": "markdown",
   "metadata": {},
   "source": [
    "# 1. 条件にあった行の選択(SELECT)\n",
    "pandasでは同じことをする方法が複数あります。<br />\n",
    "以下はそのうちの1つ(または2つ)の方法です。"
   ]
  },
  {
   "cell_type": "code",
   "execution_count": null,
   "metadata": {},
   "outputs": [],
   "source": [
    "# 前準備\n",
    "import pandas as pd\n",
    "\n",
    "df_csv = pd.read_csv('KEN_ALL_UTF8.CSV', dtype='object')\n",
    "#　dtype='object'を指定すると全て文字列で読み込まれる\n",
    "\n",
    "# ファイルのencodingは指定しない場合は、OSの標準encodingが使用される\n",
    "#　環境がMacなので、UTF-8にしてある。Windowsの場合はSJISでよい。\n",
    "\n",
    "#　行数\n",
    "#　len(Dataframe)でわかる\n",
    "print(\"行数: \" , len(df_csv))\n",
    "\n",
    "\n"
   ]
  },
  {
   "cell_type": "markdown",
   "metadata": {},
   "source": [
    "# 行と列で指定"
   ]
  },
  {
   "cell_type": "code",
   "execution_count": null,
   "metadata": {
    "scrolled": false
   },
   "outputs": [],
   "source": [
    "# 全'PREFECTURE_KANJI'列 方法1\n",
    "df_csv[['PREFECTURE_KANJI']]"
   ]
  },
  {
   "cell_type": "code",
   "execution_count": null,
   "metadata": {
    "scrolled": true
   },
   "outputs": [],
   "source": [
    "# 全'PREFECTURE_KANJI','CITY_KANJI'列\n",
    "df_csv[['PREFECTURE_KANJI', 'CITY_KANJI']]"
   ]
  },
  {
   "cell_type": "code",
   "execution_count": null,
   "metadata": {},
   "outputs": [],
   "source": [
    "# 一行目　全て\n",
    "df_csv.loc[[0]]"
   ]
  },
  {
   "cell_type": "code",
   "execution_count": null,
   "metadata": {},
   "outputs": [],
   "source": [
    "# INDEX名が0,　\n",
    "# Column名が'ADDRESS_KANJI'\n",
    "# ラベルで指定\n",
    "#　loc: ラベル名で指定\n",
    "df_csv.loc[0,'ADDRESS_KANJI']"
   ]
  },
  {
   "cell_type": "code",
   "execution_count": null,
   "metadata": {},
   "outputs": [],
   "source": [
    "# 一行目の'PREFECTURE_KANJI'の値　index番号で指定\n",
    "# iloc: 番号で指定\n",
    "df_csv.iloc[0,8]"
   ]
  },
  {
   "cell_type": "code",
   "execution_count": null,
   "metadata": {},
   "outputs": [],
   "source": [
    "# index番号 0と５\n",
    "df_csv.loc[[0,5]]"
   ]
  },
  {
   "cell_type": "code",
   "execution_count": null,
   "metadata": {},
   "outputs": [],
   "source": [
    "# index番号 0から５\n",
    "df_csv.loc[0:5]"
   ]
  },
  {
   "cell_type": "markdown",
   "metadata": {},
   "source": [
    "# 条件で選択"
   ]
  },
  {
   "cell_type": "code",
   "execution_count": null,
   "metadata": {
    "scrolled": false
   },
   "outputs": [],
   "source": [
    "#　東京都の郵便番号をSELECT　方法1　--- 次の値の変更Demoで使用します ---\n",
    "#\n",
    "# (df_csv['PREFECTURE_KANJI']=='東京都')は\n",
    "# 各行について  True, False の値を戻します(１次元の表 Series型で戻します)。\n",
    "# それをDataframe.loc[]の中に入れると、\n",
    "# Trueのものだけ選択されたDataframeが戻ります\n",
    "#\n",
    "df_tokyo = df_csv.loc[(df_csv['PREFECTURE_KANJI']=='東京都')]\n",
    "df_tokyo"
   ]
  },
  {
   "cell_type": "code",
   "execution_count": null,
   "metadata": {},
   "outputs": [],
   "source": [
    "# 東京都の郵便番号をSELECT　方法2\n",
    "# queryメソッドを使用\n",
    "# 直感でわかりやすい\n",
    "df_tokyo = df_csv.query('PREFECTURE_KANJI==\"東京都\"')\n",
    "df_tokyo"
   ]
  },
  {
   "cell_type": "code",
   "execution_count": null,
   "metadata": {},
   "outputs": [],
   "source": [
    "# 東京都の郵便番号をSQLでSELECT\n",
    "import jaydebeapi #JDBC DB接続ライブラリ-\n",
    "\n",
    "conn = jaydebeapi.connect(\n",
    "    'com.ibm.db2.jcc.DB2Driver', #JDBC Driver名\n",
    "    'jdbc:db2://localhost:50000/thinkjp',#接続先JDBC URL\n",
    "     {'user': 'db2inst1', #DB接続ID\n",
    "      'password':'thinkjapan'} , #DB接続pw  \n",
    "     '/Applications/dsdriver/java/db2jcc4.jar'\n",
    "    )\n",
    "\n",
    "# DataFrame読み込み\n",
    "df_db = pd.read_sql(\"SELECT * FROM ZIPCODE_JP WHERE PREFECTURE_KANJI='東京都'\",\n",
    "                    conn)\n",
    "len(df_db) # 件数"
   ]
  },
  {
   "cell_type": "code",
   "execution_count": null,
   "metadata": {},
   "outputs": [],
   "source": [
    "#　東京都千代田区の郵便番号をSELECT(複数条件 AND) 方法1\n",
    "#  複数条件の場合 '&' (AND) や　'|'　(OR) でつなぐ \n",
    "df_tokyo_chiyoda = df_csv.loc[\n",
    "    (df_csv['PREFECTURE_KANJI']=='東京都') & (df_csv['CITY_KANJI']=='千代田区')]\n",
    "df_tokyo_chiyoda "
   ]
  },
  {
   "cell_type": "code",
   "execution_count": null,
   "metadata": {},
   "outputs": [],
   "source": [
    "#　東京都千代田区の郵便番号をSELECT(複数条件 AND) 方法1\n",
    "#  複数条件の場合 '&' (AND) や　'|'　(OR) でつなぐ \n",
    "#  出力column名指定 が可能\n",
    "df_tokyo_chiyoda_city_kanji  = df_csv.loc[\n",
    "    (df_csv['PREFECTURE_KANJI']=='東京都') & (df_csv['CITY_KANJI']=='千代田区')\n",
    "    ,['CITY_KANJI']] #  出力column名指定\n",
    "\n",
    "df_tokyo_chiyoda_city_kanji "
   ]
  },
  {
   "cell_type": "code",
   "execution_count": null,
   "metadata": {},
   "outputs": [],
   "source": [
    "# 東京都千代田区の郵便番号をSELECT 方法2\n",
    "# queryメソッドを使用\n",
    "\n",
    "# 直感でわかりやすい\n",
    "df_tokyo_chiyoda = df_csv.query(\n",
    "                        'PREFECTURE_KANJI==\"東京都\" & CITY_KANJI==\"千代田区\"')\n",
    "df_tokyo_chiyoda"
   ]
  },
  {
   "cell_type": "code",
   "execution_count": null,
   "metadata": {},
   "outputs": [],
   "source": [
    "# 東京都の郵便番号をSQLでSELECT\n",
    "# 同じデータなので同じ条件で件数は同じになる\n",
    "df_db = pd.read_sql(\"SELECT * FROM ZIPCODE_JP\"\n",
    "                    +\" WHERE PREFECTURE_KANJI='東京都'\"\n",
    "                    +\" AND CITY_KANJI ='千代田区'\", conn)\n",
    "len(df_db)"
   ]
  },
  {
   "cell_type": "markdown",
   "metadata": {},
   "source": [
    "next page.....\n",
    "<br />\n",
    "<br />\n",
    "<br />\n",
    "<br />\n",
    "<br />\n",
    "<br />\n",
    "<br />\n",
    "<br />"
   ]
  },
  {
   "cell_type": "markdown",
   "metadata": {},
   "source": [
    "# DataFrameのCSVファイルへの保存　\n",
    "抽出したデータ: 東京都千代田区の郵便番号のDataframe <br />\n",
    "df_tokyo_chiyoda<br />\n",
    "をファイルに保存します。"
   ]
  },
  {
   "cell_type": "code",
   "execution_count": null,
   "metadata": {},
   "outputs": [],
   "source": [
    "# CSVへ保存\n",
    "# index=Falseでindex列を保存しない (デフォルトはTrueで保存されます)\n",
    "# .to_csv メソッド\n",
    "df_tokyo_chiyoda.to_csv('tokyo_chiyoda.csv', index=False)"
   ]
  },
  {
   "cell_type": "code",
   "execution_count": null,
   "metadata": {
    "scrolled": true
   },
   "outputs": [],
   "source": [
    "# !をつけるとOSのコマンドが実行できます。以下はMacのコマンドです。\n",
    "# lsで作成日時確認、headで最初の10行を出力\n",
    "! ls -l tokyo_chiyoda.csv\n",
    "! head tokyo_chiyoda.csv\n"
   ]
  },
  {
   "cell_type": "markdown",
   "metadata": {},
   "source": [
    "# DataFrameのEXCELファイルへの保存"
   ]
  },
  {
   "cell_type": "code",
   "execution_count": null,
   "metadata": {},
   "outputs": [],
   "source": [
    "# EXCELへ保存\n",
    "# index=Falseでindex列を保存しない (デフォルトはTrueで保存されます)\n",
    "# .to_excel メソッド\n",
    "df_tokyo_chiyoda.to_excel('tokyo_chiyoda.xlsx', index=False)"
   ]
  },
  {
   "cell_type": "code",
   "execution_count": null,
   "metadata": {},
   "outputs": [],
   "source": [
    "# !をつけるとOSのコマンドが実行できます。以下はMacのコマンドです。\n",
    "! ls -l tokyo_chiyoda.xlsx\n",
    "! open -a Microsoft\\ Excel tokyo_chiyoda.xlsx #EXCELのOPEN"
   ]
  },
  {
   "cell_type": "markdown",
   "metadata": {},
   "source": [
    "<br />\n",
    "<br />\n",
    "<br />\n",
    "<br />\n",
    "<br />\n",
    "<br />\n",
    "<br />\n",
    "<br />\n",
    "Next: [DEMO_02_CHANGE_DF.ipynb](DEMO_02_CHANGE_DF.ipynb)"
   ]
  }
 ],
 "metadata": {
  "kernelspec": {
   "display_name": "Python 3",
   "language": "python",
   "name": "python3"
  },
  "language_info": {
   "codemirror_mode": {
    "name": "ipython",
    "version": 3
   },
   "file_extension": ".py",
   "mimetype": "text/x-python",
   "name": "python",
   "nbconvert_exporter": "python",
   "pygments_lexer": "ipython3",
   "version": "3.6.4"
  }
 },
 "nbformat": 4,
 "nbformat_minor": 2
}
