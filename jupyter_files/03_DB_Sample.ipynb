{
 "cells": [
  {
   "cell_type": "markdown",
   "metadata": {},
   "source": [
    "# 今日からつなげるPython DB接続 (JDBC)\n",
    "必要なもの: \n",
    "ライブラリ　JayDeBeApi\n",
    "https://github.com/baztian/jaydebeapi\n",
    "\n",
    "* 接続先のDBに対応したJDBCドライバー\n",
    "* JDBC接続先URL\n",
    "* DB接続用 ID・Password\n",
    "<br />\n",
    "<br />\n",
    "\\+ Java Runtime Environment (JRE)\n",
    "\n",
    "この方法の他にDBベンダーが提供するライブラリによる接続やODBC接続等での接続が可能です。"
   ]
  },
  {
   "cell_type": "code",
   "execution_count": null,
   "metadata": {
    "slideshow": {
     "slide_type": "subslide"
    }
   },
   "outputs": [],
   "source": [
    "#DB2 Sample\n",
    "#localのdb、thinkjpに接続\n",
    "\n",
    "import jaydebeapi #JDBC DB接続ライブラリ-\n",
    "import pandas as pd\n",
    "\n",
    "conn = jaydebeapi.connect(\n",
    "    'com.ibm.db2.jcc.DB2Driver', #JDBC Driver名\n",
    "    'jdbc:db2://localhost:50000/thinkjp',#接続先JDBC URL\n",
    "     {'user': 'db2inst1', #DB接続ID\n",
    "      'password':'thinkjapan'} , #DB接続pw  \n",
    "     '/Applications/dsdriver/java/db2jcc4.jar'\n",
    "     # JDBC Driver path (CLASSPATHが通っていれば不要)\n",
    "    )\n",
    "\n",
    " \n"
   ]
  },
  {
   "cell_type": "markdown",
   "metadata": {},
   "source": [
    "# SQL実行結果をDataFrame読み込み\n",
    "ZIPCODE_JPは郵便番号データのテーブルです。"
   ]
  },
  {
   "cell_type": "code",
   "execution_count": 3,
   "metadata": {
    "scrolled": true
   },
   "outputs": [
    {
     "data": {
      "text/html": [
       "<div>\n",
       "<style scoped>\n",
       "    .dataframe tbody tr th:only-of-type {\n",
       "        vertical-align: middle;\n",
       "    }\n",
       "\n",
       "    .dataframe tbody tr th {\n",
       "        vertical-align: top;\n",
       "    }\n",
       "\n",
       "    .dataframe thead th {\n",
       "        text-align: right;\n",
       "    }\n",
       "</style>\n",
       "<table border=\"1\" class=\"dataframe\">\n",
       "  <thead>\n",
       "    <tr style=\"text-align: right;\">\n",
       "      <th></th>\n",
       "      <th>JP_LOCCODE</th>\n",
       "      <th>OLD_ZIPCODE</th>\n",
       "      <th>ZIPCODE</th>\n",
       "      <th>PREFECTURE_KANA</th>\n",
       "      <th>CITY_KANA</th>\n",
       "      <th>ADDRESS_KANA</th>\n",
       "      <th>PREFECTURE_KANJI</th>\n",
       "      <th>CITY_KANJI</th>\n",
       "      <th>ADDRESS_KANJI</th>\n",
       "      <th>FLAG1</th>\n",
       "      <th>FLAG2</th>\n",
       "      <th>FLAG3</th>\n",
       "      <th>FLAG4</th>\n",
       "      <th>UPDATE_CODE</th>\n",
       "      <th>UPDATE_REASON</th>\n",
       "      <th>ROW_ID</th>\n",
       "    </tr>\n",
       "  </thead>\n",
       "  <tbody>\n",
       "    <tr>\n",
       "      <th>0</th>\n",
       "      <td>13102</td>\n",
       "      <td>103</td>\n",
       "      <td>1030015</td>\n",
       "      <td>ﾄｳｷｮｳﾄ</td>\n",
       "      <td>ﾁｭｳｵｳｸ</td>\n",
       "      <td>ﾆﾎﾝﾊﾞｼﾊｺｻﾞｷﾁｮｳ</td>\n",
       "      <td>東京都</td>\n",
       "      <td>中央区</td>\n",
       "      <td>日本橋箱崎町</td>\n",
       "      <td>0</td>\n",
       "      <td>0</td>\n",
       "      <td>0</td>\n",
       "      <td>0</td>\n",
       "      <td>0</td>\n",
       "      <td>0</td>\n",
       "      <td>187905</td>\n",
       "    </tr>\n",
       "  </tbody>\n",
       "</table>\n",
       "</div>"
      ],
      "text/plain": [
       "  JP_LOCCODE OLD_ZIPCODE  ZIPCODE PREFECTURE_KANA CITY_KANA    ADDRESS_KANA  \\\n",
       "0     13102        103    1030015          ﾄｳｷｮｳﾄ    ﾁｭｳｵｳｸ  ﾆﾎﾝﾊﾞｼﾊｺｻﾞｷﾁｮｳ   \n",
       "\n",
       "  PREFECTURE_KANJI CITY_KANJI ADDRESS_KANJI FLAG1 FLAG2 FLAG3 FLAG4  \\\n",
       "0              東京都        中央区        日本橋箱崎町     0     0     0     0   \n",
       "\n",
       "  UPDATE_CODE UPDATE_REASON  ROW_ID  \n",
       "0           0             0  187905  "
      ]
     },
     "execution_count": 3,
     "metadata": {},
     "output_type": "execute_result"
    }
   ],
   "source": [
    "# DataFrame読み込み\n",
    "# 郵便番号 1030015のデータをSELECT\n",
    "df_db = pd.read_sql(\"SELECT * FROM ZIPCODE_JP WHERE ZIPCODE='1030015'\", conn)\n",
    "df_db"
   ]
  },
  {
   "cell_type": "markdown",
   "metadata": {},
   "source": [
    "<br>\n",
    "<br>\n",
    "<br>"
   ]
  }
 ],
 "metadata": {
  "kernelspec": {
   "display_name": "Python 3",
   "language": "python",
   "name": "python3"
  },
  "language_info": {
   "codemirror_mode": {
    "name": "ipython",
    "version": 3
   },
   "file_extension": ".py",
   "mimetype": "text/x-python",
   "name": "python",
   "nbconvert_exporter": "python",
   "pygments_lexer": "ipython3",
   "version": "3.6.4"
  }
 },
 "nbformat": 4,
 "nbformat_minor": 2
}
