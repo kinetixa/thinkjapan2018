{
 "cells": [
  {
   "cell_type": "markdown",
   "metadata": {},
   "source": [
    "# 今日からつなげるPython DB接続 (JDBC)\n",
    "必要なもの: \n",
    "ライブラリ　JayDeBeApi\n",
    "https://github.com/baztian/jaydebeapi\n",
    "\n",
    "* 接続先のDBに対応したJDBCドライバー\n",
    "* JDBC接続先URL\n",
    "* DB接続用 ID・Password\n",
    "<br />\n",
    "<br />\n",
    "\\+ Java Runtime Environment (JRE)\n",
    "\n",
    "この方法の他にDBベンダーが提供するライブラリによる接続やODBC接続等での接続が可能です。"
   ]
  },
  {
   "cell_type": "code",
   "execution_count": null,
   "metadata": {
    "slideshow": {
     "slide_type": "subslide"
    }
   },
   "outputs": [],
   "source": [
    "#DB2 Sample\n",
    "#localのdb、thinkjpに接続\n",
    "\n",
    "import jaydebeapi #JDBC DB接続ライブラリ-\n",
    "import pandas as pd\n",
    "\n",
    "conn = jaydebeapi.connect(\n",
    "    'com.ibm.db2.jcc.DB2Driver', #JDBC Driver名\n",
    "    'jdbc:db2://localhost:50000/thinkjp',#接続先JDBC URL\n",
    "     {'user': 'db2inst1', #DB接続ID\n",
    "      'password':'thinkjapan'} , #DB接続pw  \n",
    "     '/Applications/dsdriver/java/db2jcc4.jar'\n",
    "     # JDBC Driver path (CLASSPATHが通っていれば不要)\n",
    "    )\n",
    "\n",
    " \n"
   ]
  },
  {
   "cell_type": "markdown",
   "metadata": {},
   "source": [
    "# SQL実行結果をDataFrame読み込み\n",
    "ZIPCODE_JPは郵便番号データのテーブルです。"
   ]
  },
  {
   "cell_type": "code",
   "execution_count": null,
   "metadata": {},
   "outputs": [],
   "source": [
    "# DataFrame読み込み\n",
    "# 郵便番号 1030015のデータをSELECT\n",
    "df_db = pd.read_sql(\"SELECT * FROM ZIPCODE_JP\"\n",
    "                    +\" WHERE ZIPCODE='1030015'\", conn)\n",
    "df_db"
   ]
  }
 ],
 "metadata": {
  "kernelspec": {
   "display_name": "Python 3",
   "language": "python",
   "name": "python3"
  },
  "language_info": {
   "codemirror_mode": {
    "name": "ipython",
    "version": 3
   },
   "file_extension": ".py",
   "mimetype": "text/x-python",
   "name": "python",
   "nbconvert_exporter": "python",
   "pygments_lexer": "ipython3",
   "version": "3.6.4"
  }
 },
 "nbformat": 4,
 "nbformat_minor": 2
}
